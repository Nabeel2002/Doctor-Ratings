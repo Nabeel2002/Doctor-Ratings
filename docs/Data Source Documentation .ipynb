{
 "cells": [
  {
   "cell_type": "raw",
   "id": "bfea4e6d",
   "metadata": {},
   "source": [
    "Last edit: 4/29/2024"
   ]
  },
  {
   "cell_type": "markdown",
   "id": "f8a55b2b",
   "metadata": {},
   "source": [
    "# Data Source: RateMD \n"
   ]
  },
  {
   "cell_type": "raw",
   "id": "c027001e",
   "metadata": {},
   "source": [
    "- 2.2 million of record found (Approximately)\n",
    "- 2.39GB (Approximately)"
   ]
  },
  {
   "cell_type": "markdown",
   "id": "cde61d73",
   "metadata": {},
   "source": [
    "# Method:"
   ]
  },
  {
   "cell_type": "raw",
   "id": "3bf8dc22",
   "metadata": {},
   "source": [
    " Data Tool:\n",
    "     - Python \n",
    "     - MongoDB\n",
    "     - Alteryx\n",
    "     - Snowflake\n",
    "     - Domo"
   ]
  },
  {
   "cell_type": "raw",
   "id": "e21ba18a",
   "metadata": {},
   "source": [
    "Data Storage:\n",
    "    We will use MongoDB to store our raw data from RateMD.\n",
    "    After we process the data through ETL and dimensional modeling, we will load it into Snowflake as our datawarehouse."
   ]
  },
  {
   "cell_type": "raw",
   "id": "88b7583e",
   "metadata": {},
   "source": [
    "Data Processsing:\n",
    "    We will transfer our source data in batches, due to high volume of data into MongoDB.\n",
    "    \n",
    "    Then, we will convert our raw data into meaningful information to fit our business requirements and our data model.\n",
    "    \n",
    "    Finally, we will serve our transformed data into Domo for visualization that users can identify ratings of doctor \n",
    "    locations in the U.S."
   ]
  },
  {
   "cell_type": "raw",
   "id": "4ff0d8f3",
   "metadata": {},
   "source": [
    "Data Orchestration:\n",
    "    "
   ]
  }
 ],
 "metadata": {
  "kernelspec": {
   "display_name": "Python 3 (ipykernel)",
   "language": "python",
   "name": "python3"
  },
  "language_info": {
   "codemirror_mode": {
    "name": "ipython",
    "version": 3
   },
   "file_extension": ".py",
   "mimetype": "text/x-python",
   "name": "python",
   "nbconvert_exporter": "python",
   "pygments_lexer": "ipython3",
   "version": "3.11.5"
  }
 },
 "nbformat": 4,
 "nbformat_minor": 5
}
